{
 "cells": [
  {
   "cell_type": "markdown",
   "id": "3c5366df",
   "metadata": {},
   "source": [
    "# ANU ASTR4004 2025 - Week 4 (12+14 August 2025): Outsourcing Code\n",
    "\n",
    "\n",
    "Author: Dr Sven Buder (sven.buder@anu.edu.au)"
   ]
  },
  {
   "cell_type": "markdown",
   "id": "2a203675",
   "metadata": {
    "toc": true
   },
   "source": [
    "<h1>Table of Contents<span class=\"tocSkip\"></span></h1>\n",
    "<div class=\"toc\"><ul class=\"toc-item\"><li><span><a href=\"#How-it-started\" data-toc-modified-id=\"How-it-started-1\"><span class=\"toc-item-num\">1&nbsp;&nbsp;</span>How it started</a></span></li><li><span><a href=\"#How-it's-going\" data-toc-modified-id=\"How-it's-going-2\"><span class=\"toc-item-num\">2&nbsp;&nbsp;</span>How it's going</a></span></li></ul></div>"
   ]
  },
  {
   "cell_type": "markdown",
   "id": "b901e8f6",
   "metadata": {},
   "source": [
    "## How it started\n",
    "\n",
    "1 file `spectrum_processor.py` with 55 lines"
   ]
  },
  {
   "cell_type": "markdown",
   "id": "78fa3596",
   "metadata": {},
   "source": [
    "<div style=\"background-color: lightgrey; padding: 5px; border-radius: 2px;\">\n",
    "\n",
    "```python\n",
    "import numpy as np\n",
    "import matplotlib.pyplot as plt\n",
    "from scipy.optimize import curve_fit\n",
    "\n",
    "# Function to read the spectrum\n",
    "def read_spectrum(filename):\n",
    "    data = np.loadtxt(filename)\n",
    "    wavelength, flux = data[:, 0], data[:, 1]\n",
    "    return wavelength, flux\n",
    "\n",
    "# Function to normalize the spectrum\n",
    "def normalize_spectrum(wavelength, flux):\n",
    "    continuum = np.median(flux)  # Simple normalization by median\n",
    "    return flux / continuum\n",
    "\n",
    "# Function to correct for radial velocity shift\n",
    "def correct_radial_velocity(wavelength, velocity_kms):\n",
    "    c = 299792.458  # Speed of light in km/s\n",
    "    shift_factor = 1 + velocity_kms / c\n",
    "    return wavelength / shift_factor\n",
    "\n",
    "# Gaussian function for fitting\n",
    "def gaussian(x, amp, center, width, offset):\n",
    "    return amp * np.exp(-(x - center) ** 2 / (2 * width ** 2)) + offset\n",
    "\n",
    "# Function to fit Gaussian absorption line\n",
    "def fit_gaussian(wavelength, flux, initial_guess):\n",
    "    popt, pcov = curve_fit(gaussian, wavelength, flux, p0=initial_guess)\n",
    "    return popt\n",
    "\n",
    "# Main function to read, normalize, correct and fit\n",
    "def process_spectrum(filename, velocity_kms, initial_guess):\n",
    "    # Read spectrum\n",
    "    wavelength, flux = read_spectrum(filename)\n",
    "    \n",
    "    # Normalize spectrum\n",
    "    flux_normalized = normalize_spectrum(wavelength, flux)\n",
    "    \n",
    "    # Correct for radial velocity\n",
    "    wavelength_corrected = correct_radial_velocity(wavelength, velocity_kms)\n",
    "    \n",
    "    # Fit the Gaussian\n",
    "    popt = fit_gaussian(wavelength_corrected, flux_normalized, initial_guess)\n",
    "    \n",
    "    # Plot results\n",
    "    plt.plot(wavelength_corrected, flux_normalized, label='Normalized Spectrum')\n",
    "    plt.plot(wavelength_corrected, gaussian(wavelength_corrected, *popt), label='Gaussian Fit')\n",
    "    plt.xlabel('Wavelength (Angstrom)')\n",
    "    plt.ylabel('Normalized Flux')\n",
    "    plt.legend()\n",
    "    plt.show()\n",
    "\n",
    "# Example usage\n",
    "initial_guess = [-0.5, 6563, 2.0, 1.0]  # Initial guess for Gaussian fit: [amplitude, center, width, offset]\n",
    "process_spectrum('spectrum.txt', 54, initial_guess)\n",
    "```\n",
    "</div>"
   ]
  },
  {
   "cell_type": "markdown",
   "id": "7b75fc95",
   "metadata": {},
   "source": [
    "## How it's going"
   ]
  },
  {
   "cell_type": "markdown",
   "id": "3808a73e",
   "metadata": {},
   "source": [
    "We have actually created a directory `outsourced_code/` and created an `__init__.py` in it to let `python` know there will be code in it!\n",
    "\n",
    "```bash\n",
    "your_project/\n",
    "│\n",
    "├── outsourced_code/             # Your package directory\n",
    "│   ├── __init__.py              # Makes this directory a package\n",
    "│   ├── spectrum_reader.py       # Module for reading spectra\n",
    "│   ├── spectrum_normalizer.py   # Module for normalizing spectra\n",
    "│   ├── radial_velocity_corrector.py  # Module for correcting radial velocity\n",
    "│   ├── gaussian_fitter.py       # Module for fitting Gaussian curves\n",
    "│   └── spectrum_processor.py    # Main processing file that combines everything\n",
    "│\n",
    "├── tests/                       # (Optional) Directory for test files\n",
    "│   └── test_spectrum.py\n",
    "│\n",
    "├── setup.py                     # (Optional) Package installation script\n",
    "├── README.md                    # (Optional) Documentation for your project\n",
    "└── requirements.txt             # (Optional) Dependencies for your project\n",
    "```\n",
    "\n",
    "This is actually already setting up everything so that you can directly use it as a package, by installing it locally and **editable**:\n",
    "\n",
    "```bash\n",
    "pip install -e .\n",
    "```\n",
    "\n",
    "If you actually want to turn that into a package, I suggest to use your Google/ChatGPT/GitHub Copilot skills."
   ]
  },
  {
   "cell_type": "code",
   "execution_count": null,
   "id": "305eba06",
   "metadata": {},
   "outputs": [],
   "source": [
    "import matplotlib.pyplot as plt\n",
    "from outsourced_code.spectrum_reader import read_spectrum\n",
    "from outsourced_code.spectrum_normalizer import normalize_spectrum\n",
    "from outsourced_code.radial_velocity_corrector import correct_radial_velocity\n",
    "from outsourced_code.gaussian_fitter import fit_gaussian\n",
    "\n",
    "def process_spectrum(filename, velocity_kms, initial_guess):\n",
    "    \"\"\"\n",
    "    Processes the spectrum by reading it, normalizing the flux, correcting for radial velocity, \n",
    "    and fitting a Gaussian to the absorption line.\n",
    "\n",
    "    Parameters:\n",
    "    filename (str): The path to the spectrum file. The file should contain two columns for wavelength and flux.\n",
    "    velocity_kms (float): Radial velocity shift in kilometers per second (km/s).\n",
    "    initial_guess (list): List of initial guesses for the Gaussian fit parameters: \n",
    "                          [amplitude, center, width, offset].\n",
    "\n",
    "    Returns:\n",
    "    None\n",
    "    \"\"\"\n",
    "    # Read spectrum\n",
    "    wavelength, flux = read_spectrum(filename)\n",
    "    \n",
    "    # Normalize spectrum\n",
    "    flux_normalized = normalize_spectrum(flux)\n",
    "    \n",
    "    # Correct for radial velocity\n",
    "    wavelength_corrected = correct_radial_velocity(wavelength, velocity_kms)\n",
    "    \n",
    "    # Fit the Gaussian\n",
    "    popt, gaussian = fit_gaussian(wavelength_corrected, flux_normalized, initial_guess)\n",
    "    \n",
    "    # Plot results\n",
    "    plt.plot(wavelength_corrected, flux_normalized, label='Normalized Spectrum')\n",
    "    plt.plot(wavelength_corrected, gaussian(wavelength_corrected, *popt), label='Gaussian Fit')\n",
    "    plt.xlabel('Wavelength (Angstrom)')\n",
    "    plt.ylabel('Normalized Flux')\n",
    "    plt.legend()\n",
    "    plt.show()\n",
    "\n",
    "# Example usage\n",
    "initial_guess = [-0.5, 6565, 1.0, 1.0]\n",
    "process_spectrum('data/example_spectrum.txt', 0, initial_guess)"
   ]
  },
  {
   "cell_type": "code",
   "execution_count": null,
   "id": "010b96a7",
   "metadata": {},
   "outputs": [],
   "source": []
  }
 ],
 "metadata": {
  "kernelspec": {
   "display_name": "base",
   "language": "python",
   "name": "python3"
  },
  "language_info": {
   "codemirror_mode": {
    "name": "ipython",
    "version": 3
   },
   "file_extension": ".py",
   "mimetype": "text/x-python",
   "name": "python",
   "nbconvert_exporter": "python",
   "pygments_lexer": "ipython3",
   "version": "3.9.12"
  },
  "toc": {
   "base_numbering": 1,
   "nav_menu": {},
   "number_sections": true,
   "sideBar": true,
   "skip_h1_title": true,
   "title_cell": "Table of Contents",
   "title_sidebar": "Contents",
   "toc_cell": true,
   "toc_position": {
    "height": "calc(100% - 180px)",
    "left": "10px",
    "top": "150px",
    "width": "165px"
   },
   "toc_section_display": true,
   "toc_window_display": true
  }
 },
 "nbformat": 4,
 "nbformat_minor": 5
}
